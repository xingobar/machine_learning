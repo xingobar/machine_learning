{
 "cells": [
  {
   "cell_type": "code",
   "execution_count": 111,
   "metadata": {
    "collapsed": false
   },
   "outputs": [],
   "source": [
    "import pandas as pd\n",
    "import numpy as np\n",
    "from sklearn.preprocessing import LabelEncoder\n",
    "import matplotlib.pyplot as plt\n",
    "from xgboost import XGBRegressor\n",
    "from sklearn.linear_model import LogisticRegression\n",
    "from sklearn.ensemble import RandomForestRegressor\n",
    "from sklearn.ensemble import GradientBoostingRegressor\n",
    "from sklearn.grid_search import GridSearchCV\n",
    "from sklearn.cross_validation import StratifiedKFold\n",
    "from sklearn.metrics import accuracy_score,log_loss\n",
    "%matplotlib inline\n",
    "\n"
   ]
  },
  {
   "cell_type": "code",
   "execution_count": 212,
   "metadata": {
    "collapsed": false
   },
   "outputs": [],
   "source": [
    "train_house = pd.read_csv('train_house_price.csv')\n",
    "test_house = pd.read_csv('test_house_price.csv')\n",
    "all_data = pd.concat((train_house.loc[:,'MSSubClass':'SaleCondition'],\n",
    "                      test_house.loc[:,'MSSubClass':'SaleCondition']),ignore_index=True) "
   ]
  },
  {
   "cell_type": "code",
   "execution_count": 213,
   "metadata": {
    "collapsed": false
   },
   "outputs": [],
   "source": [
    "### process NaN\n",
    "all_data.loc[all_data['Alley'].isnull(),'Alley'] = 'NoAlley'\n",
    "all_data.loc[all_data['MasVnrType'].isnull(),'MasVnrType'] = 'None'\n",
    "all_data.loc[all_data['MasVnrType'] == 'None','MasVnrArea'] = 0\n",
    "all_data.loc[all_data['MSZoning'].isnull(),'MSZoning'] = 'RL'\n",
    "all_data.loc[all_data['Utilities'].isnull(),'Utilities'] = 'AllPub'\n",
    "all_data.loc[all_data['Exterior2nd'].isnull(),'Exterior2nd'] = 'VinylSd'\n",
    "all_data.loc[all_data['Exterior1st'].isnull(),'Exterior1st'] = 'VinylSd'\n",
    "all_data.loc[all_data['BsmtQual'].isnull(),'BsmtQual'] = 'NoBasement'\n",
    "all_data.loc[all_data['BsmtCond'].isnull(),'BsmtCond'] = 'NoBasement'\n",
    "all_data.loc[all_data['BsmtExposure'].isnull(),'BsmtExposure'] = 'NoBasement'\n",
    "all_data.loc[all_data['BsmtFinType1'].isnull(),'BsmtFinType1'] = 'NoBasement'\n",
    "all_data.loc[all_data['BsmtFinType1'] == 'NoBasement','BsmtFinSF1'] = 0.0\n",
    "all_data.loc[all_data['BsmtFinType2'].isnull(),'BsmtFinType2'] = 'NoBasement'\n",
    "all_data.loc[all_data['BsmtFinType2'] == 'NoBasement','BsmtFinSF2'] = 0.0\n",
    "all_data.loc[all_data['BsmtQual'] == 'NoBasement' ,'BsmtUnfSF'] = 0.0\n",
    "all_data.loc[all_data['BsmtQual'] == 'NoBasement' , 'TotalBsmtSF'] = 0.0\n",
    "all_data.loc[all_data['BsmtUnfSF'].isnull(),'BsmtUnfSF'] = all_data.BsmtUnfSF.median()\n",
    "all_data.loc[all_data['BsmtFinSF1'].isnull(),'BsmtFinSF1'] = all_data.BsmtFinSF1.median()\n",
    "all_data.loc[all_data['KitchenQual'].isnull(),'KitchenQual'] = 'TA'\n",
    "all_data.loc[all_data['Functional'].isnull(),'Functional'] = 'Typ'\n",
    "all_data.loc[all_data['FireplaceQu'].isnull(),'FireplaceQu'] = 'NoFireplace'\n",
    "all_data.loc[all_data['GarageType'].isnull(),'GarageType'] = 'NoGarage'\n",
    "all_data.loc[all_data['GarageFinish'].isnull(),'GarageFinish'] = 'NoGarage'\n",
    "all_data.loc[all_data['GarageQual'].isnull(),'GarageQual'] = 'NoGarage'\n",
    "all_data.loc[all_data['GarageCond'].isnull(),'GarageCond'] = 'NoGarage'\n",
    "all_data.loc[all_data['PoolQC'].isnull(),'PoolQC'] = 'NoPool'\n",
    "all_data.loc[all_data['Fence'].isnull(),'Fence'] = 'NoFence'\n",
    "all_data.loc[all_data['MiscFeature'].isnull(),'MiscFeature'] = 'None'\n",
    "all_data.loc[all_data['SaleType'].isnull(),'SaleType'] = 'WD'\n",
    "all_data.loc[all_data['Electrical'].isnull(),'Electrical'] = 'SBrkr'\n",
    "all_data.loc[all_data['BsmtFullBath'].isnull(),'BsmtFullBath'] = 0\n",
    "all_data.loc[all_data['BsmtHalfBath'].isnull(),'BsmtHalfBath'] = 0\n",
    "# only one is null and it has type Detchd\n",
    "all_data.loc[all_data['GarageArea'].isnull(), 'GarageArea'] = all_data.loc[all_data['GarageType']=='Detchd', 'GarageArea'].mean()\n",
    "all_data.loc[all_data['GarageCars'].isnull(), 'GarageCars'] = all_data.loc[all_data['GarageType']=='Detchd', 'GarageCars'].median()"
   ]
  },
  {
   "cell_type": "code",
   "execution_count": 214,
   "metadata": {
    "collapsed": false,
    "scrolled": false
   },
   "outputs": [
    {
     "data": {
      "image/png": "[encoded data removed]",
      "text/plain": [
       "<matplotlib.figure.Figure at 0x118b005d0>"
      ]
     },
     "metadata": {},
     "output_type": "display_data"
    }
   ],
   "source": [
    "x = all_data.loc[np.logical_not(all_data[\"LotFrontage\"].isnull()), \"LotArea\"]\n",
    "y = all_data.loc[np.logical_not(all_data[\"LotFrontage\"].isnull()), \"LotFrontage\"]\n",
    "plt.scatter(x,y) ## delete outlier \n",
    "t = (x <= 25000 ) & (y <=150)\n",
    "poly  = np.polyfit(x[t],y[t],1)\n",
    "all_data.loc[all_data['LotFrontage'].isnull(),'LotFrontage'] = np.polyval(poly,all_data.loc[all_data['LotFrontage'].isnull(),'LotArea'])"
   ]
  },
  {
   "cell_type": "code",
   "execution_count": 215,
   "metadata": {
    "collapsed": false
   },
   "outputs": [],
   "source": [
    "all_data.loc[all_data['GarageYrBlt'].isnull(),'GarageYrBlt'] = all_data.GarageYrBlt.median()"
   ]
  },
  {
   "cell_type": "code",
   "execution_count": 233,
   "metadata": {
    "collapsed": false
   },
   "outputs": [],
   "source": [
    "x_train  = X_train_house2[:train_house.shape[0]]\n",
    "x_test = X_train_house2[train_house.shape[0]:]"
   ]
  },
  {
   "cell_type": "code",
   "execution_count": 217,
   "metadata": {
    "collapsed": false
   },
   "outputs": [],
   "source": [
    "all_data = all_data.replace({\n",
    "        #'MSZoning':{'A':1,'C':2,'FV':2,'RH':3,:'RL':4,'RP':4,'RM':4},\n",
    "        'ExterQual':{'Ex':5,'Gd':4,'TA':3,'Fa':2,'Po':1},\n",
    "        'ExterCond':{'Ex':5,'Gd':4,'TA':3,'Fa':2,'Po':1},\n",
    "        'BsmtQual':{'Ex':5,'Gd':4,'TA':3,'Fa':2,'Po':1,'NoBasement':0},\n",
    "        'BsmtCond':{'Ex':5,'Gd':4,'TA':3,'Fa':2,'Po':1,'NoBasement':0},\n",
    "        'BsmtExposure':{'Ex':5,'Gd':4,'TA':3,'Fa':2,'Po':1,'NoBasement':0},\n",
    "        'HeatingQC':{'Ex':5,'Gd':4,'TA':3,'Fa':2,'Po':1},\n",
    "        'KitchenQual':{'Ex':5,'Gd':4,'TA':3,'Fa':2,'Po':1},\n",
    "        'FireplaceQu':{'Ex':5,'Gd':4,'TA':3,'Fa':2,'Po':1,'NoFireplace':0},\n",
    "        'GarageQual':{'Ex':5,'Gd':4,'TA':3,'Fa':2,'Po':1,'NoGarage':0},\n",
    "        'GarageCond':{'Ex':5,'Gd':4,'TA':3,'Fa':2,'Po':1,'NoGarage':0},\n",
    "        'PoolQC':{'Ex':4,'Gd':3,'TA':2,'Fa':1,'NoPool':0},\n",
    "        'Street':{'Grvl':1,'Pave':2},\n",
    "        'Alley':{'Grvl':1,'Pave':2,'NoAlley':3},\n",
    "        'Utilities':{'AllPub':1,'NoSewr':2,'NoSeWa':3,'ELO':4},\n",
    "        'Fence':{'GdPrv':1,'MnPrv':2,'GdWo':3,'MnWw':4,'NoFence':5},\n",
    "        'Functional':{'Typ':0,'Min1':1,'Min2':1,'Mod':2,'Maj1':3,'Maj2':4,'Sev':5,'Sal':6},\n",
    "        \n",
    "    })"
   ]
  },
  {
   "cell_type": "code",
   "execution_count": 98,
   "metadata": {
    "collapsed": false
   },
   "outputs": [],
   "source": [
    "from sklearn.linear_model import LassoCV\n",
    "from sklearn.linear_model import Lasso\n",
    "from sklearn.cross_validation import train_test_split\n",
    "from sklearn.ensemble import RandomForestRegressor"
   ]
  },
  {
   "cell_type": "code",
   "execution_count": 218,
   "metadata": {
    "collapsed": false
   },
   "outputs": [],
   "source": [
    "all_data = all_data.replace({\n",
    "        'SaleCondition':{\n",
    "            'Normal':1,\n",
    "            'Abnorml':2,\n",
    "            'AdjLand':3,\n",
    "            'Alloca':4,\n",
    "            'Family':5,\n",
    "            'Partial':6,\n",
    "        },\n",
    "    })"
   ]
  },
  {
   "cell_type": "code",
   "execution_count": 109,
   "metadata": {
    "collapsed": false
   },
   "outputs": [
    {
     "data": {
      "text/html": [
       "<div>\n",
       "<table border=\"1\" class=\"dataframe\">\n",
       "  <thead>\n",
       "    <tr style=\"text-align: right;\">\n",
       "      <th></th>\n",
       "      <th>MSSubClass</th>\n",
       "      <th>MSZoning</th>\n",
       "      <th>LotFrontage</th>\n",
       "      <th>LotArea</th>\n",
       "      <th>Street</th>\n",
       "      <th>Alley</th>\n",
       "      <th>LotShape</th>\n",
       "      <th>LandContour</th>\n",
       "      <th>Utilities</th>\n",
       "      <th>LotConfig</th>\n",
       "      <th>...</th>\n",
       "      <th>ScreenPorch</th>\n",
       "      <th>PoolArea</th>\n",
       "      <th>PoolQC</th>\n",
       "      <th>Fence</th>\n",
       "      <th>MiscFeature</th>\n",
       "      <th>MiscVal</th>\n",
       "      <th>MoSold</th>\n",
       "      <th>YrSold</th>\n",
       "      <th>SaleType</th>\n",
       "      <th>SaleCondition</th>\n",
       "    </tr>\n",
       "  </thead>\n",
       "  <tbody>\n",
       "    <tr>\n",
       "      <th>0</th>\n",
       "      <td>60</td>\n",
       "      <td>RL</td>\n",
       "      <td>65.0</td>\n",
       "      <td>8450</td>\n",
       "      <td>2</td>\n",
       "      <td>3</td>\n",
       "      <td>Reg</td>\n",
       "      <td>Lvl</td>\n",
       "      <td>1</td>\n",
       "      <td>Inside</td>\n",
       "      <td>...</td>\n",
       "      <td>0</td>\n",
       "      <td>0</td>\n",
       "      <td>0</td>\n",
       "      <td>5</td>\n",
       "      <td>None</td>\n",
       "      <td>0</td>\n",
       "      <td>2</td>\n",
       "      <td>2008</td>\n",
       "      <td>WD</td>\n",
       "      <td>1</td>\n",
       "    </tr>\n",
       "    <tr>\n",
       "      <th>1</th>\n",
       "      <td>20</td>\n",
       "      <td>RL</td>\n",
       "      <td>80.0</td>\n",
       "      <td>9600</td>\n",
       "      <td>2</td>\n",
       "      <td>3</td>\n",
       "      <td>Reg</td>\n",
       "      <td>Lvl</td>\n",
       "      <td>1</td>\n",
       "      <td>FR2</td>\n",
       "      <td>...</td>\n",
       "      <td>0</td>\n",
       "      <td>0</td>\n",
       "      <td>0</td>\n",
       "      <td>5</td>\n",
       "      <td>None</td>\n",
       "      <td>0</td>\n",
       "      <td>5</td>\n",
       "      <td>2007</td>\n",
       "      <td>WD</td>\n",
       "      <td>1</td>\n",
       "    </tr>\n",
       "    <tr>\n",
       "      <th>2</th>\n",
       "      <td>60</td>\n",
       "      <td>RL</td>\n",
       "      <td>68.0</td>\n",
       "      <td>11250</td>\n",
       "      <td>2</td>\n",
       "      <td>3</td>\n",
       "      <td>IR1</td>\n",
       "      <td>Lvl</td>\n",
       "      <td>1</td>\n",
       "      <td>Inside</td>\n",
       "      <td>...</td>\n",
       "      <td>0</td>\n",
       "      <td>0</td>\n",
       "      <td>0</td>\n",
       "      <td>5</td>\n",
       "      <td>None</td>\n",
       "      <td>0</td>\n",
       "      <td>9</td>\n",
       "      <td>2008</td>\n",
       "      <td>WD</td>\n",
       "      <td>1</td>\n",
       "    </tr>\n",
       "    <tr>\n",
       "      <th>3</th>\n",
       "      <td>70</td>\n",
       "      <td>RL</td>\n",
       "      <td>60.0</td>\n",
       "      <td>9550</td>\n",
       "      <td>2</td>\n",
       "      <td>3</td>\n",
       "      <td>IR1</td>\n",
       "      <td>Lvl</td>\n",
       "      <td>1</td>\n",
       "      <td>Corner</td>\n",
       "      <td>...</td>\n",
       "      <td>0</td>\n",
       "      <td>0</td>\n",
       "      <td>0</td>\n",
       "      <td>5</td>\n",
       "      <td>None</td>\n",
       "      <td>0</td>\n",
       "      <td>2</td>\n",
       "      <td>2006</td>\n",
       "      <td>WD</td>\n",
       "      <td>2</td>\n",
       "    </tr>\n",
       "    <tr>\n",
       "      <th>4</th>\n",
       "      <td>60</td>\n",
       "      <td>RL</td>\n",
       "      <td>84.0</td>\n",
       "      <td>14260</td>\n",
       "      <td>2</td>\n",
       "      <td>3</td>\n",
       "      <td>IR1</td>\n",
       "      <td>Lvl</td>\n",
       "      <td>1</td>\n",
       "      <td>FR2</td>\n",
       "      <td>...</td>\n",
       "      <td>0</td>\n",
       "      <td>0</td>\n",
       "      <td>0</td>\n",
       "      <td>5</td>\n",
       "      <td>None</td>\n",
       "      <td>0</td>\n",
       "      <td>12</td>\n",
       "      <td>2008</td>\n",
       "      <td>WD</td>\n",
       "      <td>1</td>\n",
       "    </tr>\n",
       "  </tbody>\n",
       "</table>\n",
       "<p>5 rows × 79 columns</p>\n",
       "</div>"
      ],
      "text/plain": [
       "   MSSubClass MSZoning  LotFrontage  LotArea  Street  Alley LotShape  \\\n",
       "0          60       RL         65.0     8450       2      3      Reg   \n",
       "1          20       RL         80.0     9600       2      3      Reg   \n",
       "2          60       RL         68.0    11250       2      3      IR1   \n",
       "3          70       RL         60.0     9550       2      3      IR1   \n",
       "4          60       RL         84.0    14260       2      3      IR1   \n",
       "\n",
       "  LandContour Utilities LotConfig      ...       ScreenPorch PoolArea PoolQC  \\\n",
       "0         Lvl         1    Inside      ...                 0        0      0   \n",
       "1         Lvl         1       FR2      ...                 0        0      0   \n",
       "2         Lvl         1    Inside      ...                 0        0      0   \n",
       "3         Lvl         1    Corner      ...                 0        0      0   \n",
       "4         Lvl         1       FR2      ...                 0        0      0   \n",
       "\n",
       "  Fence MiscFeature MiscVal  MoSold  YrSold  SaleType  SaleCondition  \n",
       "0     5        None       0       2    2008        WD              1  \n",
       "1     5        None       0       5    2007        WD              1  \n",
       "2     5        None       0       9    2008        WD              1  \n",
       "3     5        None       0       2    2006        WD              2  \n",
       "4     5        None       0      12    2008        WD              1  \n",
       "\n",
       "[5 rows x 79 columns]"
      ]
     },
     "execution_count": 109,
     "metadata": {},
     "output_type": "execute_result"
    }
   ],
   "source": [
    "all_data.head()"
   ]
  },
  {
   "cell_type": "code",
   "execution_count": 219,
   "metadata": {
    "collapsed": false
   },
   "outputs": [],
   "source": [
    "exter_qual = all_data['ExterQual'].copy()\n",
    "exter_qual[exter_qual >=3 ] =1\n",
    "exter_qual[exter_qual < 3 ] = 0 \n",
    "exter_qual.name = 'ExterQual'\n",
    "basement_qual = all_data['BsmtQual'].copy()\n",
    "basement_qual[basement_qual >=3 ] =1\n",
    "basement_qual[basement_qual <3 ] = 0\n",
    "basement_qual.name = 'BsmtQual'\n",
    "kitchen_qual = all_data['KitchenQual'].copy()\n",
    "kitchen_qual[kitchen_qual >=3 ] = 1\n",
    "kitchen_qual[kitchen_qual < 3 ] = 0\n",
    "kitchen_qual.name = 'KitchenQual'\n",
    "garage_qual = all_data['GarageQual'].copy()\n",
    "garage_qual[garage_qual >=3 ] = 1\n",
    "garage_qual[garage_qual < 3] = 0\n",
    "garage_qual.name = 'GarageQual'\n",
    "heating_qual = all_data['HeatingQC'].copy()\n",
    "heating_qual[heating_qual >=3 ] =1\n",
    "heating_qual[heating_qual < 3] = 0\n",
    "heating_qual.name = 'HeatingQC'\n",
    "overall_qual = all_data['OverallQual'].copy()\n",
    "overall_qual = overal_qual - 5\n",
    "overall_qual[overal_qual >=0  ] = 1\n",
    "overall_qual[overal_qual < 0 ] =0 \n",
    "overall_qual.name = 'OverallQual'\n",
    "overall_cond = all_data['OverallCond'].copy()\n",
    "overall_cond = overall_cond - 5\n",
    "overall_cond[overall_cond >=0] = 1\n",
    "overall_cond[overall_cond < 0] = 0\n",
    "overall_cond.name = 'OverallCond'\n",
    "basement_cond = all_data['BsmtCond'].copy()\n",
    "basement_cond[basement_cond >=3] = 1\n",
    "basement_cond[basement_cond < 3] = 0\n",
    "basement_cond.name = 'BsmtCond'\n",
    "qu_list = pd.concat((exter_qual,basement_qual,kitchen_qual,\n",
    "           garage_qual,heating_qual,\n",
    "           overall_qual,overall_cond,basement_cond),axis=1)\n",
    "\n",
    "MasVnrType_Any = all_data['MasVnrType'].replace({'BrkCmn': 1,\n",
    "                                              'BrkFace': 1,\n",
    "                                              'CBlock': 1,\n",
    "                                              'Stone': 1,\n",
    "                                              'None': 0})\n",
    "MasVnrType_Any.name = 'MasVnrType_Any'"
   ]
  },
  {
   "cell_type": "code",
   "execution_count": 220,
   "metadata": {
    "collapsed": false
   },
   "outputs": [],
   "source": [
    "X_train_house2 = pd.concat((qu_list,all_data['SaleCondition'],all_data['FireplaceQu'],\n",
    "           all_data['GarageYrBlt'],all_data['PoolQC'],\n",
    "          all_data['Fence'],all_data['Utilities'],all_data['Functional'],all_data['MSZoning']),axis=1)"
   ]
  },
  {
   "cell_type": "code",
   "execution_count": 156,
   "metadata": {
    "collapsed": false,
    "scrolled": true
   },
   "outputs": [
    {
     "data": {
      "text/plain": [
       "RandomForestRegressor(bootstrap=True, criterion='mse', max_depth=7,\n",
       "           max_features='auto', max_leaf_nodes=None, min_samples_leaf=1,\n",
       "           min_samples_split=2, min_weight_fraction_leaf=0.0,\n",
       "           n_estimators=150, n_jobs=1, oob_score=False, random_state=None,\n",
       "           verbose=0, warm_start=False)"
      ]
     },
     "execution_count": 156,
     "metadata": {},
     "output_type": "execute_result"
    }
   ],
   "source": [
    "X_train,X_valid ,y_train,y_valid = train_test_split(x_train,train_house['SalePrice'],test_size=0.2,random_state=42)\n",
    "clf = RandomForestRegressor(n_estimators=150,max_depth=7)\n",
    "clf.fit(X_train,y_train)"
   ]
  },
  {
   "cell_type": "code",
   "execution_count": 234,
   "metadata": {
    "collapsed": false
   },
   "outputs": [],
   "source": [
    "clf.fit(x_train,train_house['SalePrice'])\n",
    "y_pred = clf.predict(x_test)\n",
    "pd.DataFrame({'Id':x_test.index+1,\n",
    "               'SalePrice':y_pred}).to_csv('Home Price.csv',index=False)\n"
   ]
  },
  {
   "cell_type": "code",
   "execution_count": 223,
   "metadata": {
    "collapsed": false
   },
   "outputs": [
    {
     "data": {
      "text/html": [
       "<div>\n",
       "<table border=\"1\" class=\"dataframe\">\n",
       "  <thead>\n",
       "    <tr style=\"text-align: right;\">\n",
       "      <th></th>\n",
       "      <th>ExterQual</th>\n",
       "      <th>BsmtQual</th>\n",
       "      <th>KitchenQual</th>\n",
       "      <th>GarageQual</th>\n",
       "      <th>HeatingQC</th>\n",
       "      <th>OverallQual</th>\n",
       "      <th>OverallCond</th>\n",
       "      <th>BsmtCond</th>\n",
       "      <th>SaleCondition</th>\n",
       "      <th>FireplaceQu</th>\n",
       "      <th>GarageYrBlt</th>\n",
       "      <th>PoolQC</th>\n",
       "      <th>Fence</th>\n",
       "      <th>Utilities</th>\n",
       "      <th>Functional</th>\n",
       "      <th>MSZoning</th>\n",
       "    </tr>\n",
       "  </thead>\n",
       "  <tbody>\n",
       "    <tr>\n",
       "      <th>0</th>\n",
       "      <td>0</td>\n",
       "      <td>0</td>\n",
       "      <td>0</td>\n",
       "      <td>0</td>\n",
       "      <td>0</td>\n",
       "      <td>1</td>\n",
       "      <td>1</td>\n",
       "      <td>0</td>\n",
       "      <td>1</td>\n",
       "      <td>0</td>\n",
       "      <td>2003.0</td>\n",
       "      <td>0</td>\n",
       "      <td>5</td>\n",
       "      <td>1</td>\n",
       "      <td>0</td>\n",
       "      <td>1</td>\n",
       "    </tr>\n",
       "    <tr>\n",
       "      <th>1</th>\n",
       "      <td>0</td>\n",
       "      <td>0</td>\n",
       "      <td>0</td>\n",
       "      <td>0</td>\n",
       "      <td>0</td>\n",
       "      <td>1</td>\n",
       "      <td>1</td>\n",
       "      <td>0</td>\n",
       "      <td>1</td>\n",
       "      <td>3</td>\n",
       "      <td>1976.0</td>\n",
       "      <td>0</td>\n",
       "      <td>5</td>\n",
       "      <td>1</td>\n",
       "      <td>0</td>\n",
       "      <td>1</td>\n",
       "    </tr>\n",
       "    <tr>\n",
       "      <th>2</th>\n",
       "      <td>0</td>\n",
       "      <td>0</td>\n",
       "      <td>0</td>\n",
       "      <td>0</td>\n",
       "      <td>0</td>\n",
       "      <td>1</td>\n",
       "      <td>1</td>\n",
       "      <td>0</td>\n",
       "      <td>1</td>\n",
       "      <td>3</td>\n",
       "      <td>2001.0</td>\n",
       "      <td>0</td>\n",
       "      <td>5</td>\n",
       "      <td>1</td>\n",
       "      <td>0</td>\n",
       "      <td>1</td>\n",
       "    </tr>\n",
       "    <tr>\n",
       "      <th>3</th>\n",
       "      <td>0</td>\n",
       "      <td>0</td>\n",
       "      <td>0</td>\n",
       "      <td>0</td>\n",
       "      <td>0</td>\n",
       "      <td>1</td>\n",
       "      <td>1</td>\n",
       "      <td>0</td>\n",
       "      <td>2</td>\n",
       "      <td>4</td>\n",
       "      <td>1998.0</td>\n",
       "      <td>0</td>\n",
       "      <td>5</td>\n",
       "      <td>1</td>\n",
       "      <td>0</td>\n",
       "      <td>1</td>\n",
       "    </tr>\n",
       "    <tr>\n",
       "      <th>4</th>\n",
       "      <td>0</td>\n",
       "      <td>0</td>\n",
       "      <td>0</td>\n",
       "      <td>0</td>\n",
       "      <td>0</td>\n",
       "      <td>1</td>\n",
       "      <td>1</td>\n",
       "      <td>0</td>\n",
       "      <td>1</td>\n",
       "      <td>3</td>\n",
       "      <td>2000.0</td>\n",
       "      <td>0</td>\n",
       "      <td>5</td>\n",
       "      <td>1</td>\n",
       "      <td>0</td>\n",
       "      <td>1</td>\n",
       "    </tr>\n",
       "  </tbody>\n",
       "</table>\n",
       "</div>"
      ],
      "text/plain": [
       "   ExterQual  BsmtQual  KitchenQual  GarageQual  HeatingQC  OverallQual  \\\n",
       "0          0         0            0           0          0            1   \n",
       "1          0         0            0           0          0            1   \n",
       "2          0         0            0           0          0            1   \n",
       "3          0         0            0           0          0            1   \n",
       "4          0         0            0           0          0            1   \n",
       "\n",
       "   OverallCond  BsmtCond  SaleCondition  FireplaceQu  GarageYrBlt  PoolQC  \\\n",
       "0            1         0              1            0       2003.0       0   \n",
       "1            1         0              1            3       1976.0       0   \n",
       "2            1         0              1            3       2001.0       0   \n",
       "3            1         0              2            4       1998.0       0   \n",
       "4            1         0              1            3       2000.0       0   \n",
       "\n",
       "   Fence  Utilities  Functional MSZoning  \n",
       "0      5          1           0        1  \n",
       "1      5          1           0        1  \n",
       "2      5          1           0        1  \n",
       "3      5          1           0        1  \n",
       "4      5          1           0        1  "
      ]
     },
     "execution_count": 223,
     "metadata": {},
     "output_type": "execute_result"
    }
   ],
   "source": [
    "X_train_house2['MSZoning'] = X_train_house2['MSZoning'].replace({\n",
    "        'A':1,\n",
    "        'C':2,\n",
    "        'FV':2,\n",
    "        'RH':2,\n",
    "        'RL':1,\n",
    "        'RP':2,\n",
    "        'RM':2\n",
    "    })\n",
    "X_train_house2.head()"
   ]
  },
  {
   "cell_type": "code",
   "execution_count": null,
   "metadata": {
    "collapsed": false
   },
   "outputs": [],
   "source": []
  },
  {
   "cell_type": "code",
   "execution_count": null,
   "metadata": {
    "collapsed": false
   },
   "outputs": [],
   "source": []
  },
  {
   "cell_type": "code",
   "execution_count": null,
   "metadata": {
    "collapsed": false
   },
   "outputs": [],
   "source": []
  },
  {
   "cell_type": "code",
   "execution_count": null,
   "metadata": {
    "collapsed": false
   },
   "outputs": [],
   "source": []
  },
  {
   "cell_type": "code",
   "execution_count": null,
   "metadata": {
    "collapsed": false
   },
   "outputs": [],
   "source": []
  },
  {
   "cell_type": "code",
   "execution_count": null,
   "metadata": {
    "collapsed": false
   },
   "outputs": [],
   "source": []
  },
  {
   "cell_type": "code",
   "execution_count": null,
   "metadata": {
    "collapsed": false
   },
   "outputs": [],
   "source": []
  },
  {
   "cell_type": "code",
   "execution_count": null,
   "metadata": {
    "collapsed": false
   },
   "outputs": [],
   "source": []
  },
  {
   "cell_type": "code",
   "execution_count": null,
   "metadata": {
    "collapsed": false
   },
   "outputs": [],
   "source": []
  },
  {
   "cell_type": "code",
   "execution_count": null,
   "metadata": {
    "collapsed": true
   },
   "outputs": [],
   "source": []
  }
 ],
 "metadata": {
  "anaconda-cloud": {},
  "kernelspec": {
   "display_name": "Python [Root]",
   "language": "python",
   "name": "Python [Root]"
  },
  "language_info": {
   "codemirror_mode": {
    "name": "ipython",
    "version": 2
   },
   "file_extension": ".py",
   "mimetype": "text/x-python",
   "name": "python",
   "nbconvert_exporter": "python",
   "pygments_lexer": "ipython2",
   "version": "2.7.12"
  }
 },
 "nbformat": 4,
 "nbformat_minor": 0
}
