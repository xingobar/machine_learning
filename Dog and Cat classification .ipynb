{
 "cells": [
  {
   "cell_type": "code",
   "execution_count": 146,
   "metadata": {
    "collapsed": false
   },
   "outputs": [],
   "source": [
    "# https://keras.io/callbacks/\n",
    "import pandas as pd \n",
    "import numpy as np\n",
    "import seaborn as sns\n",
    "import random\n",
    "import time\n",
    "import os\n",
    "import cv2\n",
    "import matplotlib.pyplot as plt\n",
    "from keras.models import Sequential\n",
    "from keras.layers import Input,Dropout,Dense,Activation,Convolution2D,MaxPooling2D,Flatten\n",
    "from keras.optimizers import Adam,Adagrad,RMSprop,rmsprop\n",
    "from keras.callbacks import EarlyStopping,Callback,ModelCheckpoint\n",
    "%matplotlib inline"
   ]
  },
  {
   "cell_type": "code",
   "execution_count": 147,
   "metadata": {
    "collapsed": true
   },
   "outputs": [],
   "source": [
    "## loading data\n",
    "train_dir = '/Users/xingobar/Downloads/animal_train/'\n",
    "test_dir = '/Users/xingobar/Downloads/animal_test/'\n",
    "\n",
    "train_images = [ train_dir + str(i) for i in os.listdir(train_dir)]\n",
    "dogs = [train_dir + str(i) for i in os.listdir(train_dir) if 'dog' in i]\n",
    "cats = [train_dir + str(i) for i in os.listdir(train_dir) if 'cat' in i]\n",
    "test_images = [test_dir + str(i) for i in os.listdir(test_dir)]"
   ]
  },
  {
   "cell_type": "code",
   "execution_count": 148,
   "metadata": {
    "collapsed": false
   },
   "outputs": [],
   "source": [
    "train_images = dogs[:len(dogs)] + cats[:len(cats)]\n",
    "#test_images = test_images[:25]\n",
    "random.shuffle(train_images)"
   ]
  },
  {
   "cell_type": "code",
   "execution_count": 149,
   "metadata": {
    "collapsed": false
   },
   "outputs": [],
   "source": [
    "rows  = 64\n",
    "cols = 64\n",
    "color_channel = 3\n",
    "def read_image(images):\n",
    "    img = cv2.imread(images,cv2.IMREAD_COLOR)\n",
    "    return cv2.resize(img,(rows,cols),interpolation = cv2.INTER_CUBIC)"
   ]
  },
  {
   "cell_type": "code",
   "execution_count": 150,
   "metadata": {
    "collapsed": true
   },
   "outputs": [],
   "source": [
    "def prepare_data(images):\n",
    "    image_length = len(images) # counts \n",
    "    data = np.ndarray((image_length,color_channel,rows,cols),dtype=np.uint8)\n",
    "    for i,image_file in enumerate(images):\n",
    "        image = read_image(image_file)\n",
    "        data[i] = image.T\n",
    "        if i % 250 ==0 : print '%d of %d '%(i,image_length)\n",
    "    return data"
   ]
  },
  {
   "cell_type": "code",
   "execution_count": 151,
   "metadata": {
    "collapsed": false
   },
   "outputs": [
    {
     "name": "stdout",
     "output_type": "stream",
     "text": [
      "0 of 25000 \n",
      "250 of 25000 \n",
      "500 of 25000 \n",
      "750 of 25000 \n",
      "1000 of 25000 \n",
      "1250 of 25000 \n",
      "1500 of 25000 \n",
      "1750 of 25000 \n",
      "2000 of 25000 \n",
      "2250 of 25000 \n",
      "2500 of 25000 \n",
      "2750 of 25000 \n",
      "3000 of 25000 \n",
      "3250 of 25000 \n",
      "3500 of 25000 \n",
      "3750 of 25000 \n",
      "4000 of 25000 \n",
      "4250 of 25000 \n",
      "4500 of 25000 \n",
      "4750 of 25000 \n",
      "5000 of 25000 \n",
      "5250 of 25000 \n",
      "5500 of 25000 \n",
      "5750 of 25000 \n",
      "6000 of 25000 \n",
      "6250 of 25000 \n",
      "6500 of 25000 \n",
      "6750 of 25000 \n",
      "7000 of 25000 \n",
      "7250 of 25000 \n",
      "7500 of 25000 \n",
      "7750 of 25000 \n",
      "8000 of 25000 \n",
      "8250 of 25000 \n",
      "8500 of 25000 \n",
      "8750 of 25000 \n",
      "9000 of 25000 \n",
      "9250 of 25000 \n",
      "9500 of 25000 \n",
      "9750 of 25000 \n",
      "10000 of 25000 \n",
      "10250 of 25000 \n",
      "10500 of 25000 \n",
      "10750 of 25000 \n",
      "11000 of 25000 \n",
      "11250 of 25000 \n",
      "11500 of 25000 \n",
      "11750 of 25000 \n",
      "12000 of 25000 \n",
      "12250 of 25000 \n",
      "12500 of 25000 \n",
      "12750 of 25000 \n",
      "13000 of 25000 \n",
      "13250 of 25000 \n",
      "13500 of 25000 \n",
      "13750 of 25000 \n",
      "14000 of 25000 \n",
      "14250 of 25000 \n",
      "14500 of 25000 \n",
      "14750 of 25000 \n",
      "15000 of 25000 \n",
      "15250 of 25000 \n",
      "15500 of 25000 \n",
      "15750 of 25000 \n",
      "16000 of 25000 \n",
      "16250 of 25000 \n",
      "16500 of 25000 \n",
      "16750 of 25000 \n",
      "17000 of 25000 \n",
      "17250 of 25000 \n",
      "17500 of 25000 \n",
      "17750 of 25000 \n",
      "18000 of 25000 \n",
      "18250 of 25000 \n",
      "18500 of 25000 \n",
      "18750 of 25000 \n",
      "19000 of 25000 \n",
      "19250 of 25000 \n",
      "19500 of 25000 \n",
      "19750 of 25000 \n",
      "20000 of 25000 \n",
      "20250 of 25000 \n",
      "20500 of 25000 \n",
      "20750 of 25000 \n",
      "21000 of 25000 \n",
      "21250 of 25000 \n",
      "21500 of 25000 \n",
      "21750 of 25000 \n",
      "22000 of 25000 \n",
      "22250 of 25000 \n",
      "22500 of 25000 \n",
      "22750 of 25000 \n",
      "23000 of 25000 \n",
      "23250 of 25000 \n",
      "23500 of 25000 \n",
      "23750 of 25000 \n",
      "24000 of 25000 \n",
      "24250 of 25000 \n",
      "24500 of 25000 \n",
      "24750 of 25000 \n",
      "0 of 12500 \n",
      "250 of 12500 \n",
      "500 of 12500 \n",
      "750 of 12500 \n",
      "1000 of 12500 \n",
      "1250 of 12500 \n",
      "1500 of 12500 \n",
      "1750 of 12500 \n",
      "2000 of 12500 \n",
      "2250 of 12500 \n",
      "2500 of 12500 \n",
      "2750 of 12500 \n",
      "3000 of 12500 \n",
      "3250 of 12500 \n",
      "3500 of 12500 \n",
      "3750 of 12500 \n",
      "4000 of 12500 \n",
      "4250 of 12500 \n",
      "4500 of 12500 \n",
      "4750 of 12500 \n",
      "5000 of 12500 \n",
      "5250 of 12500 \n",
      "5500 of 12500 \n",
      "5750 of 12500 \n",
      "6000 of 12500 \n",
      "6250 of 12500 \n",
      "6500 of 12500 \n",
      "6750 of 12500 \n",
      "7000 of 12500 \n",
      "7250 of 12500 \n",
      "7500 of 12500 \n",
      "7750 of 12500 \n",
      "8000 of 12500 \n",
      "8250 of 12500 \n",
      "8500 of 12500 \n",
      "8750 of 12500 \n",
      "9000 of 12500 \n",
      "9250 of 12500 \n",
      "9500 of 12500 \n",
      "9750 of 12500 \n",
      "10000 of 12500 \n",
      "10250 of 12500 \n",
      "10500 of 12500 \n",
      "10750 of 12500 \n",
      "11000 of 12500 \n",
      "11250 of 12500 \n",
      "11500 of 12500 \n",
      "11750 of 12500 \n",
      "12000 of 12500 \n",
      "12250 of 12500 \n"
     ]
    }
   ],
   "source": [
    "train = prepare_data(train_images)\n",
    "test = prepare_data(test_images)"
   ]
  },
  {
   "cell_type": "code",
   "execution_count": 152,
   "metadata": {
    "collapsed": false
   },
   "outputs": [
    {
     "name": "stdout",
     "output_type": "stream",
     "text": [
      "train shape :  (25000, 3, 64, 64)\n",
      "test shape :  (12500, 3, 64, 64)\n"
     ]
    }
   ],
   "source": [
    "print 'train shape : ' ,train.shape\n",
    "print 'test shape : ' , test.shape"
   ]
  },
  {
   "cell_type": "code",
   "execution_count": 155,
   "metadata": {
    "collapsed": false
   },
   "outputs": [
    {
     "data": {
      "text/plain": [
       "<matplotlib.text.Text at 0x132fb50d0>"
      ]
     },
     "execution_count": 155,
     "metadata": {},
     "output_type": "execute_result"
    },
    {
     "data": {
      "image/png": "[encoded data removed]",
      "text/plain": [
       "<matplotlib.figure.Figure at 0x11a780d50>"
      ]
     },
     "metadata": {},
     "output_type": "display_data"
    }
   ],
   "source": [
    "labels = []\n",
    "for i in train_images:\n",
    "    if 'dog' in i :\n",
    "        labels.append(1)\n",
    "    elif 'cat' in i:\n",
    "        labels.append(0)\n",
    "sns.countplot(labels)\n",
    "plt.title('total size ; 0 = cat , 1 = dogs',fontsize=20)"
   ]
  },
  {
   "cell_type": "code",
   "execution_count": 128,
   "metadata": {
    "collapsed": false
   },
   "outputs": [
    {
     "data": {
      "image/png": "[encoded data removed]",
      "text/plain": [
       "<matplotlib.figure.Figure at 0x123609cd0>"
      ]
     },
     "metadata": {},
     "output_type": "display_data"
    }
   ],
   "source": [
    "plt.figure(figsize=(18,6))\n",
    "plt.imshow(read_image(cats[0]))\n",
    "plt.show()"
   ]
  },
  {
   "cell_type": "code",
   "execution_count": 153,
   "metadata": {
    "collapsed": false
   },
   "outputs": [],
   "source": [
    "def CNN():\n",
    "    model  =Sequential()\n",
    "    model.add(Convolution2D(32,3,3,input_shape=(color_channel,rows,cols),border_mode='same',activation='relu'))\n",
    "    model.add(Convolution2D(32,3,3,border_mode='same',activation='relu'))\n",
    "    model.add(MaxPooling2D(pool_size=(2,2)))\n",
    "    \n",
    "    model.add(Convolution2D(64,3,3,border_mode='same',activation='relu'))\n",
    "    model.add(Convolution2D(64,3,3,border_mode='same',activation='relu'))\n",
    "    model.add(MaxPooling2D(pool_size=(2,2)))\n",
    "    \n",
    "    model.add(Convolution2D(128,3,3,border_mode='same',activation='relu'))\n",
    "    model.add(Convolution2D(128,3,3,border_mode='same',activation='relu'))\n",
    "    model.add(MaxPooling2D(pool_size=(2,2)))\n",
    "    \n",
    "    model.add(Convolution2D(256,3,3,border_mode='same',activation='relu'))\n",
    "    model.add(Convolution2D(256,3,3,border_mode='same',activation='relu'))\n",
    "    model.add(MaxPooling2D(pool_size=(2,2)))\n",
    "    \n",
    "    model.add(Flatten())\n",
    "    model.add(Dense(256,activation='relu'))\n",
    "    model.add(Dropout(0.5))\n",
    "    \n",
    "    #model.add(Flatten())\n",
    "    model.add(Dense(256,activation='relu'))\n",
    "    model.add(Dropout(0.5))\n",
    "    \n",
    "    #model.add(Flatten())\n",
    "    model.add(Dense(1,activation='sigmoid'))\n",
    "    model.compile(optimizer=RMSprop(lr=1e-4), loss='binary_crossentropy', metrics=['accuracy'])\n",
    "    \n",
    "    \n",
    "    return model\n",
    "cnn = CNN()\n",
    "    "
   ]
  },
  {
   "cell_type": "code",
   "execution_count": 156,
   "metadata": {
    "collapsed": false
   },
   "outputs": [
    {
     "name": "stdout",
     "output_type": "stream",
     "text": [
      "Starting ....\n",
      "Train on 18750 samples, validate on 6250 samples\n",
      "Epoch 1/10\n",
      "18750/18750 [==============================] - 820s - loss: 0.6669 - acc: 0.6003 - val_loss: 0.5945 - val_acc: 0.6741\n",
      "Epoch 2/10\n",
      "18750/18750 [==============================] - 770s - loss: 0.5314 - acc: 0.7382 - val_loss: 0.4842 - val_acc: 0.7670\n",
      "Epoch 3/10\n",
      "18750/18750 [==============================] - 768s - loss: 0.4525 - acc: 0.7945 - val_loss: 0.4173 - val_acc: 0.8099\n",
      "Epoch 4/10\n",
      "18750/18750 [==============================] - 733s - loss: 0.4062 - acc: 0.8258 - val_loss: 0.3835 - val_acc: 0.8250\n",
      "Epoch 5/10\n",
      "18750/18750 [==============================] - 735s - loss: 0.3725 - acc: 0.8441 - val_loss: 0.3909 - val_acc: 0.8270\n",
      "Epoch 6/10\n",
      "18750/18750 [==============================] - 739s - loss: 0.3369 - acc: 0.8587 - val_loss: 0.3573 - val_acc: 0.8398\n",
      "Epoch 7/10\n",
      "18750/18750 [==============================] - 743s - loss: 0.3056 - acc: 0.8763 - val_loss: 0.4552 - val_acc: 0.8470\n",
      "Epoch 8/10\n",
      "18750/18750 [==============================] - 743s - loss: 0.2752 - acc: 0.8903 - val_loss: 0.6311 - val_acc: 0.8442\n",
      "Epoch 9/10\n",
      "18750/18750 [==============================] - 745s - loss: 0.2576 - acc: 0.9000 - val_loss: 0.4313 - val_acc: 0.8462\n",
      "Epoch 10/10\n",
      "18736/18750 [============================>.] - ETA: 0s - loss: 0.2344 - acc: 0.9129Epoch 00009: early stopping\n",
      "18750/18750 [==============================] - 759s - loss: 0.2343 - acc: 0.9129 - val_loss: 0.4896 - val_acc: 0.8422\n",
      "Finishing ....\n",
      "Time is 128.38 \n"
     ]
    }
   ],
   "source": [
    "nb_epoch = 10\n",
    "batch_size = 16\n",
    "\n",
    "\n",
    "print 'Starting ....'\n",
    "start_time = time.time()\n",
    "class History(Callback):\n",
    "    def on_train_begin(self, logs={}):\n",
    "        self.losses = []\n",
    "        self.val_losses = []\n",
    "        \n",
    "    def on_epoch_end(self, batch, logs={}):\n",
    "        self.losses.append(logs.get('loss'))\n",
    "        self.val_losses.append(logs.get('val_loss'))\n",
    "\n",
    "early_stopping = EarlyStopping(monitor='val_loss', patience=3, verbose=1, mode='auto')        \n",
    "        \n",
    "def run_model():\n",
    "    \n",
    "    history = History()\n",
    "    cnn.fit(train, labels, batch_size=batch_size, nb_epoch=nb_epoch,\n",
    "              validation_split=0.25, verbose=1, shuffle=True, callbacks=[history, early_stopping])\n",
    "    \n",
    "\n",
    "    predictions = cnn.predict(test, verbose=0)\n",
    "    return predictions, history\n",
    "\n",
    "predictions, history = run_model()\n",
    "print 'Finishing ....'\n",
    "print 'Time is %.2f ' %((time.time() - start_time) / 60)"
   ]
  },
  {
   "cell_type": "code",
   "execution_count": 157,
   "metadata": {
    "collapsed": false
   },
   "outputs": [
    {
     "data": {
      "image/png": "[encoded data removed]",
      "text/plain": [
       "<matplotlib.figure.Figure at 0x132fae110>"
      ]
     },
     "metadata": {},
     "output_type": "display_data"
    }
   ],
   "source": [
    "loss = history.losses\n",
    "val_loss = history.val_losses\n",
    "\n",
    "plt.xlabel('Epochs')\n",
    "plt.ylabel('Loss')\n",
    "plt.title('VGG-16 Loss Trend')\n",
    "plt.plot(loss, 'blue', label='Training Loss')\n",
    "plt.plot(val_loss, 'green', label='Validation Loss')\n",
    "plt.xticks(range(0,nb_epoch)[0::2])\n",
    "plt.legend()\n",
    "plt.show()"
   ]
  },
  {
   "cell_type": "code",
   "execution_count": 196,
   "metadata": {
    "collapsed": false
   },
   "outputs": [],
   "source": [
    "columns = ['id','label']\n",
    "df_results = pd.DataFrame(columns=columns)\n",
    "for i in range(0,len(test)):\n",
    "    if predictions[i,0] >=0.5 :\n",
    "        pred = predictions[i,0]\n",
    "        #print 'it is a dog %.2f probability ' %(predictions[i,0])\n",
    "        \n",
    "    else:\n",
    "        pred =  predictions[i,0]\n",
    "        #print 'it is a cat  %.2f probability ' %(1 - predictions[i,0])\n",
    "    entry = pd.DataFrame([[i+1,pred]] , columns=columns)\n",
    "    df_results = df_results.append(entry)"
   ]
  },
  {
   "cell_type": "code",
   "execution_count": 197,
   "metadata": {
    "collapsed": false
   },
   "outputs": [
    {
     "data": {
      "text/html": [
       "<div>\n",
       "<table border=\"1\" class=\"dataframe\">\n",
       "  <thead>\n",
       "    <tr style=\"text-align: right;\">\n",
       "      <th></th>\n",
       "      <th>id</th>\n",
       "      <th>label</th>\n",
       "    </tr>\n",
       "  </thead>\n",
       "  <tbody>\n",
       "    <tr>\n",
       "      <th>0</th>\n",
       "      <td>1.0</td>\n",
       "      <td>0.992990</td>\n",
       "    </tr>\n",
       "    <tr>\n",
       "      <th>0</th>\n",
       "      <td>2.0</td>\n",
       "      <td>0.000046</td>\n",
       "    </tr>\n",
       "    <tr>\n",
       "      <th>0</th>\n",
       "      <td>3.0</td>\n",
       "      <td>0.023557</td>\n",
       "    </tr>\n",
       "    <tr>\n",
       "      <th>0</th>\n",
       "      <td>4.0</td>\n",
       "      <td>1.000000</td>\n",
       "    </tr>\n",
       "    <tr>\n",
       "      <th>0</th>\n",
       "      <td>5.0</td>\n",
       "      <td>0.984717</td>\n",
       "    </tr>\n",
       "  </tbody>\n",
       "</table>\n",
       "</div>"
      ],
      "text/plain": [
       "    id     label\n",
       "0  1.0  0.992990\n",
       "0  2.0  0.000046\n",
       "0  3.0  0.023557\n",
       "0  4.0  1.000000\n",
       "0  5.0  0.984717"
      ]
     },
     "execution_count": 197,
     "metadata": {},
     "output_type": "execute_result"
    }
   ],
   "source": [
    "df_results.head()"
   ]
  },
  {
   "cell_type": "code",
   "execution_count": 169,
   "metadata": {
    "collapsed": false
   },
   "outputs": [
    {
     "data": {
      "text/html": [
       "<div>\n",
       "<table border=\"1\" class=\"dataframe\">\n",
       "  <thead>\n",
       "    <tr style=\"text-align: right;\">\n",
       "      <th></th>\n",
       "      <th>level_0</th>\n",
       "      <th>id</th>\n",
       "      <th>label</th>\n",
       "    </tr>\n",
       "  </thead>\n",
       "  <tbody>\n",
       "    <tr>\n",
       "      <th>0</th>\n",
       "      <td>0</td>\n",
       "      <td>1.0</td>\n",
       "      <td>0.992990</td>\n",
       "    </tr>\n",
       "    <tr>\n",
       "      <th>1</th>\n",
       "      <td>1</td>\n",
       "      <td>2.0</td>\n",
       "      <td>0.999954</td>\n",
       "    </tr>\n",
       "    <tr>\n",
       "      <th>2</th>\n",
       "      <td>2</td>\n",
       "      <td>3.0</td>\n",
       "      <td>0.976443</td>\n",
       "    </tr>\n",
       "    <tr>\n",
       "      <th>3</th>\n",
       "      <td>3</td>\n",
       "      <td>4.0</td>\n",
       "      <td>1.000000</td>\n",
       "    </tr>\n",
       "    <tr>\n",
       "      <th>4</th>\n",
       "      <td>4</td>\n",
       "      <td>5.0</td>\n",
       "      <td>0.984717</td>\n",
       "    </tr>\n",
       "  </tbody>\n",
       "</table>\n",
       "</div>"
      ],
      "text/plain": [
       "   level_0   id     label\n",
       "0        0  1.0  0.992990\n",
       "1        1  2.0  0.999954\n",
       "2        2  3.0  0.976443\n",
       "3        3  4.0  1.000000\n",
       "4        4  5.0  0.984717"
      ]
     },
     "execution_count": 169,
     "metadata": {},
     "output_type": "execute_result"
    }
   ],
   "source": [
    "df_results = df_results.reset_index()\n",
    "df_results.drop(['index'],axis=1,inplace=True)\n",
    "df_results.head()"
   ]
  },
  {
   "cell_type": "code",
   "execution_count": 170,
   "metadata": {
    "collapsed": false
   },
   "outputs": [
    {
     "data": {
      "text/html": [
       "<div>\n",
       "<table border=\"1\" class=\"dataframe\">\n",
       "  <thead>\n",
       "    <tr style=\"text-align: right;\">\n",
       "      <th></th>\n",
       "      <th>id</th>\n",
       "      <th>label</th>\n",
       "    </tr>\n",
       "  </thead>\n",
       "  <tbody>\n",
       "    <tr>\n",
       "      <th>0</th>\n",
       "      <td>1.0</td>\n",
       "      <td>0.992990</td>\n",
       "    </tr>\n",
       "    <tr>\n",
       "      <th>1</th>\n",
       "      <td>2.0</td>\n",
       "      <td>0.999954</td>\n",
       "    </tr>\n",
       "    <tr>\n",
       "      <th>2</th>\n",
       "      <td>3.0</td>\n",
       "      <td>0.976443</td>\n",
       "    </tr>\n",
       "    <tr>\n",
       "      <th>3</th>\n",
       "      <td>4.0</td>\n",
       "      <td>1.000000</td>\n",
       "    </tr>\n",
       "    <tr>\n",
       "      <th>4</th>\n",
       "      <td>5.0</td>\n",
       "      <td>0.984717</td>\n",
       "    </tr>\n",
       "  </tbody>\n",
       "</table>\n",
       "</div>"
      ],
      "text/plain": [
       "    id     label\n",
       "0  1.0  0.992990\n",
       "1  2.0  0.999954\n",
       "2  3.0  0.976443\n",
       "3  4.0  1.000000\n",
       "4  5.0  0.984717"
      ]
     },
     "execution_count": 170,
     "metadata": {},
     "output_type": "execute_result"
    }
   ],
   "source": [
    "df_results.drop(['level_0'],axis=1,inplace=True)\n",
    "df_results.head()"
   ]
  },
  {
   "cell_type": "code",
   "execution_count": 173,
   "metadata": {
    "collapsed": false
   },
   "outputs": [
    {
     "data": {
      "text/html": [
       "<div>\n",
       "<table border=\"1\" class=\"dataframe\">\n",
       "  <thead>\n",
       "    <tr style=\"text-align: right;\">\n",
       "      <th></th>\n",
       "      <th>id</th>\n",
       "      <th>label</th>\n",
       "    </tr>\n",
       "  </thead>\n",
       "  <tbody>\n",
       "    <tr>\n",
       "      <th>0</th>\n",
       "      <td>1</td>\n",
       "      <td>0.992990</td>\n",
       "    </tr>\n",
       "    <tr>\n",
       "      <th>1</th>\n",
       "      <td>2</td>\n",
       "      <td>0.999954</td>\n",
       "    </tr>\n",
       "    <tr>\n",
       "      <th>2</th>\n",
       "      <td>3</td>\n",
       "      <td>0.976443</td>\n",
       "    </tr>\n",
       "    <tr>\n",
       "      <th>3</th>\n",
       "      <td>4</td>\n",
       "      <td>1.000000</td>\n",
       "    </tr>\n",
       "    <tr>\n",
       "      <th>4</th>\n",
       "      <td>5</td>\n",
       "      <td>0.984717</td>\n",
       "    </tr>\n",
       "  </tbody>\n",
       "</table>\n",
       "</div>"
      ],
      "text/plain": [
       "   id     label\n",
       "0   1  0.992990\n",
       "1   2  0.999954\n",
       "2   3  0.976443\n",
       "3   4  1.000000\n",
       "4   5  0.984717"
      ]
     },
     "execution_count": 173,
     "metadata": {},
     "output_type": "execute_result"
    }
   ],
   "source": [
    "df_results['id'] = df_results['id'].astype(np.int8)\n",
    "df_results.head()"
   ]
  },
  {
   "cell_type": "code",
   "execution_count": 175,
   "metadata": {
    "collapsed": true
   },
   "outputs": [],
   "source": [
    "df_results.to_csv('dogs_cats_classification.csv',index=False)"
   ]
  },
  {
   "cell_type": "code",
   "execution_count": 182,
   "metadata": {
    "collapsed": false
   },
   "outputs": [
    {
     "ename": "AttributeError",
     "evalue": "'list' object has no attribute 'split'",
     "output_type": "error",
     "traceback": [
      "\u001b[0;31m\u001b[0m",
      "\u001b[0;31mAttributeError\u001b[0mTraceback (most recent call last)",
      "\u001b[0;32m<ipython-input-182-a690d4062ae8>\u001b[0m in \u001b[0;36m<module>\u001b[0;34m()\u001b[0m\n\u001b[0;32m----> 1\u001b[0;31m \u001b[0mtest_images\u001b[0m\u001b[0;34m.\u001b[0m\u001b[0msplit\u001b[0m\u001b[0;34m(\u001b[0m\u001b[0;34m'/Users/xingobar/Downloads/animal_test/'\u001b[0m\u001b[0;34m)\u001b[0m\u001b[0;34m\u001b[0m\u001b[0m\n\u001b[0m",
      "\u001b[0;31mAttributeError\u001b[0m: 'list' object has no attribute 'split'"
     ]
    }
   ],
   "source": [
    "test_images.split('/Users/xingobar/Downloads/animal_test/')"
   ]
  },
  {
   "cell_type": "code",
   "execution_count": 198,
   "metadata": {
    "collapsed": false
   },
   "outputs": [],
   "source": [
    "ids = []\n",
    "for i in test_images:\n",
    "    i = i.split('/Users/xingobar/Downloads/animal_test/')[1]\n",
    "    #print i\n",
    "    i = i.split('.jpg')[0]\n",
    "    ids.append(i)"
   ]
  },
  {
   "cell_type": "code",
   "execution_count": 199,
   "metadata": {
    "collapsed": false
   },
   "outputs": [],
   "source": [
    "df_results.insert(0,'test',ids)"
   ]
  },
  {
   "cell_type": "code",
   "execution_count": 200,
   "metadata": {
    "collapsed": false
   },
   "outputs": [],
   "source": [
    "df_results.drop(['id'],axis=1,inplace=True)"
   ]
  },
  {
   "cell_type": "code",
   "execution_count": 201,
   "metadata": {
    "collapsed": false
   },
   "outputs": [
    {
     "data": {
      "text/html": [
       "<div>\n",
       "<table border=\"1\" class=\"dataframe\">\n",
       "  <thead>\n",
       "    <tr style=\"text-align: right;\">\n",
       "      <th></th>\n",
       "      <th>id</th>\n",
       "      <th>label</th>\n",
       "    </tr>\n",
       "  </thead>\n",
       "  <tbody>\n",
       "    <tr>\n",
       "      <th>0</th>\n",
       "      <td>1</td>\n",
       "      <td>0.992990</td>\n",
       "    </tr>\n",
       "    <tr>\n",
       "      <th>0</th>\n",
       "      <td>10</td>\n",
       "      <td>0.000046</td>\n",
       "    </tr>\n",
       "    <tr>\n",
       "      <th>0</th>\n",
       "      <td>100</td>\n",
       "      <td>0.023557</td>\n",
       "    </tr>\n",
       "    <tr>\n",
       "      <th>0</th>\n",
       "      <td>1000</td>\n",
       "      <td>1.000000</td>\n",
       "    </tr>\n",
       "    <tr>\n",
       "      <th>0</th>\n",
       "      <td>10000</td>\n",
       "      <td>0.984717</td>\n",
       "    </tr>\n",
       "  </tbody>\n",
       "</table>\n",
       "</div>"
      ],
      "text/plain": [
       "      id     label\n",
       "0      1  0.992990\n",
       "0     10  0.000046\n",
       "0    100  0.023557\n",
       "0   1000  1.000000\n",
       "0  10000  0.984717"
      ]
     },
     "execution_count": 201,
     "metadata": {},
     "output_type": "execute_result"
    }
   ],
   "source": [
    "df_results.rename(columns={'test':'id'},inplace=True)\n",
    "df_results.head()"
   ]
  },
  {
   "cell_type": "code",
   "execution_count": 202,
   "metadata": {
    "collapsed": true
   },
   "outputs": [],
   "source": [
    "df_results.to_csv('dogs_cats_classification.csv',index=False)"
   ]
  },
  {
   "cell_type": "code",
   "execution_count": null,
   "metadata": {
    "collapsed": true
   },
   "outputs": [],
   "source": []
  }
 ],
 "metadata": {
  "kernelspec": {
   "display_name": "Python [Root]",
   "language": "python",
   "name": "Python [Root]"
  },
  "language_info": {
   "codemirror_mode": {
    "name": "ipython",
    "version": 2
   },
   "file_extension": ".py",
   "mimetype": "text/x-python",
   "name": "python",
   "nbconvert_exporter": "python",
   "pygments_lexer": "ipython2",
   "version": "2.7.12"
  }
 },
 "nbformat": 4,
 "nbformat_minor": 0
}
