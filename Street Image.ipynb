{
 "cells": [
  {
   "cell_type": "code",
   "execution_count": 4,
   "metadata": {
    "collapsed": true
   },
   "outputs": [],
   "source": [
    "import os\n",
    "import math\n",
    "import pandas as pd\n",
    "import numpy as np\n",
    "from scipy.misc import imread,imresize,imsave\n",
    "import glob"
   ]
  },
  {
   "cell_type": "code",
   "execution_count": 7,
   "metadata": {
    "collapsed": false
   },
   "outputs": [
    {
     "name": "stdout",
     "output_type": "stream",
     "text": [
      "(6220, 32, 32)\n"
     ]
    }
   ],
   "source": [
    "img_rows,img_cols = 32,32\n",
    "for types in ['street_image_train','street_image_test']:\n",
    "    files = glob.glob('/Users/xingobar/Downloads' + '/' + types +'/*')\n",
    "    data = np.zeros((len(files),img_rows,img_cols))\n",
    "    for i,filepath in enumerate(files):\n",
    "        image = imread(filepath,True) # flatten to grayscale\n",
    "        imageResized = imresize(image,(img_rows,img_cols))\n",
    "        data[i] = imageResized\n",
    "    data[:,np.newaxis,:,:]  ## convert to three dimensional \n",
    "    data = data.astype('float32')\n",
    "    data /= 255\n",
    "print data.shape"
   ]
  },
  {
   "cell_type": "code",
   "execution_count": 17,
   "metadata": {
    "collapsed": false
   },
   "outputs": [],
   "source": [
    "#y_train\n",
    "def label_to_int(ch):\n",
    "    ascii = ord(ch)\n",
    "    if(ascii <=57):\n",
    "        ascii =- 48\n",
    "    elif(ascii <= 90):\n",
    "        ascii -= 55\n",
    "    else:\n",
    "        ascii -= 61\n",
    "    return ascii\n",
    "y_train = pd.read_csv('/Users/xingobar/Downloads/street_image_trainLabels.csv').values[:,1]\n",
    "Y_train = np.zeros((y_train.shape[0],len(np.unique(y_train))))\n",
    "for i in range(y_train.shape[0]):\n",
    "    Y_train[i][label_to_int(y_train[i])] = 1 # one-hot"
   ]
  },
  {
   "cell_type": "code",
   "execution_count": 16,
   "metadata": {
    "collapsed": false
   },
   "outputs": [
    {
     "data": {
      "text/plain": [
       "62"
      ]
     },
     "execution_count": 16,
     "metadata": {},
     "output_type": "execute_result"
    }
   ],
   "source": [
    "len(np.unique(y_train))"
   ]
  },
  {
   "cell_type": "code",
   "execution_count": null,
   "metadata": {
    "collapsed": true
   },
   "outputs": [],
   "source": [
    "from keras.preprocessing.image import ImageDataGenerator\n",
    "from keras.models import Sequential\n",
    "from keras.layers.core import Activation,Dense,Dropout,Flatten\n",
    "from keras.layers.convolutional import Convolution2D,MaxPooling2D\n",
    "from sklearn.cross_validation import train_test_split\n",
    "\n",
    "batch_size = 128\n",
    "nb_epoch = 500\n",
    "nb_classes = 62\n",
    "\n",
    "img_rows,img_cols = 32,32\n"
   ]
  }
 ],
 "metadata": {
  "anaconda-cloud": {},
  "kernelspec": {
   "display_name": "Python [Root]",
   "language": "python",
   "name": "Python [Root]"
  },
  "language_info": {
   "codemirror_mode": {
    "name": "ipython",
    "version": 2
   },
   "file_extension": ".py",
   "mimetype": "text/x-python",
   "name": "python",
   "nbconvert_exporter": "python",
   "pygments_lexer": "ipython2",
   "version": "2.7.12"
  }
 },
 "nbformat": 4,
 "nbformat_minor": 0
}
