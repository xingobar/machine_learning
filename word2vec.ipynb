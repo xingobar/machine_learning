{
 "cells": [
  {
   "cell_type": "code",
   "execution_count": 3,
   "metadata": {
    "collapsed": false
   },
   "outputs": [],
   "source": [
    "\n",
    "import numpy as np\n",
    "import matplotlib.pyplot as plt \n",
    "%matplotlib inline"
   ]
  },
  {
   "cell_type": "code",
   "execution_count": 4,
   "metadata": {
    "collapsed": true
   },
   "outputs": [],
   "source": [
    "text = [\n",
    "    [\"the\", \"dog\", \"run\", ],\n",
    "    [\"a\", \"cat\", \"run\", ],\n",
    "    [\"a\", \"dog\", \"sleep\", ],\n",
    "    [\"the\", \"cat\", \"sleep\", ],\n",
    "    [\"a\", \"dog\", \"bark\", ],\n",
    "    [\"the\", \"cat\", \"meows\", ],\n",
    "    [\"the\", \"bird\", \"fly\", ],\n",
    "    [\"a\", \"bird\", \"sleep\", ],\n",
    "]"
   ]
  },
  {
   "cell_type": "code",
   "execution_count": 33,
   "metadata": {
    "collapsed": false
   },
   "outputs": [],
   "source": [
    "def build_word_vector(text):\n",
    "    word2id = {w:i for i,w in enumerate(sorted(list(set(reduce(lambda x,y:x+y,text)))))}\n",
    "    #print word2id\n",
    "    id2word = {x[1]:x[0] for x in word2id.items()}\n",
    "    #print id2word\n",
    "    #print word2id.items()\n",
    "    wvectors = np.ones((len(word2id),len(word2id)))\n",
    "    for sentence in text:\n",
    "        for word1,word2 in zip(sentence[:-1],sentence[1:]):\n",
    "            id1,id2 = word2id[word1],word2id[word2]\n",
    "            wvectors[id1,id2] +=1\n",
    "            wvectors[id2,id1] +=1\n",
    "    return wvectors,word2id,id2word\n",
    "\n",
    "def cosine(v1,v2):\n",
    "    # A⋅B  /  |A||B|=∑aibi  / ∑ia2i * √∑ib2i\n",
    "    return np.dot(v1,v2)/ (np.sqrt(np.sum(np.power(v1,2))) * np.sqrt(np.sum(np.power(v2,2))))\n",
    "    \n",
    "def visualize(wvectors,id2word):\n",
    "    np.random.seed(10)\n",
    "    fig = plt.figure()\n",
    "    U,sigma,Vh = np.linalg.svd(wvectors)\n",
    "    ax = fig.add_subplot(111)\n",
    "    ax.axis([-1,1,-1,1])\n",
    "    for i in id2word:\n",
    "        ax.text(U[i,0],U[i,1],id2word[i],alpha = 0.3,fontsize=20)\n",
    "        print U[i,0]\n",
    "    plt.show()"
   ]
  },
  {
   "cell_type": "code",
   "execution_count": 8,
   "metadata": {
    "collapsed": false
   },
   "outputs": [
    {
     "name": "stdout",
     "output_type": "stream",
     "text": [
      "{'a': 0, 'fly': 5, 'run': 7, 'the': 9, 'dog': 4, 'cat': 3, 'meows': 6, 'sleep': 8, 'bark': 1, 'bird': 2}\n"
     ]
    }
   ],
   "source": [
    "build_word_vector(text)"
   ]
  },
  {
   "cell_type": "code",
   "execution_count": 14,
   "metadata": {
    "collapsed": false
   },
   "outputs": [
    {
     "data": {
      "text/plain": [
       "['a', 'bark', 'bird', 'cat', 'dog', 'fly', 'meows', 'run', 'sleep', 'the']"
      ]
     },
     "execution_count": 14,
     "metadata": {},
     "output_type": "execute_result"
    }
   ],
   "source": [
    "sorted(list(set(reduce(lambda x,y:x+y,text))))"
   ]
  },
  {
   "cell_type": "code",
   "execution_count": 18,
   "metadata": {
    "collapsed": false
   },
   "outputs": [
    {
     "name": "stdout",
     "output_type": "stream",
     "text": [
      "{0: 'a', 1: 'bark', 2: 'bird', 3: 'cat', 4: 'dog', 5: 'fly', 6: 'meows', 7: 'run', 8: 'sleep', 9: 'the'}\n"
     ]
    }
   ],
   "source": [
    "build_word_vector(text)"
   ]
  },
  {
   "cell_type": "code",
   "execution_count": 20,
   "metadata": {
    "collapsed": false
   },
   "outputs": [
    {
     "name": "stdout",
     "output_type": "stream",
     "text": [
      "[('a', 0), ('fly', 5), ('run', 7), ('the', 9), ('dog', 4), ('cat', 3), ('meows', 6), ('sleep', 8), ('bark', 1), ('bird', 2)]\n"
     ]
    }
   ],
   "source": [
    "build_word_vector(text)"
   ]
  },
  {
   "cell_type": "code",
   "execution_count": 24,
   "metadata": {
    "collapsed": false
   },
   "outputs": [
    {
     "data": {
      "text/plain": [
       "(array([[ 1.,  1.,  2.,  2.,  3.,  1.,  1.,  1.,  1.,  1.],\n",
       "        [ 1.,  1.,  1.,  1.,  2.,  1.,  1.,  1.,  1.,  1.],\n",
       "        [ 2.,  1.,  1.,  1.,  1.,  2.,  1.,  1.,  2.,  2.],\n",
       "        [ 2.,  1.,  1.,  1.,  1.,  1.,  2.,  2.,  2.,  3.],\n",
       "        [ 3.,  2.,  1.,  1.,  1.,  1.,  1.,  2.,  2.,  2.],\n",
       "        [ 1.,  1.,  2.,  1.,  1.,  1.,  1.,  1.,  1.,  1.],\n",
       "        [ 1.,  1.,  1.,  2.,  1.,  1.,  1.,  1.,  1.,  1.],\n",
       "        [ 1.,  1.,  1.,  2.,  2.,  1.,  1.,  1.,  1.,  1.],\n",
       "        [ 1.,  1.,  2.,  2.,  2.,  1.,  1.,  1.,  1.,  1.],\n",
       "        [ 1.,  1.,  2.,  3.,  2.,  1.,  1.,  1.,  1.,  1.]]),\n",
       " {'a': 0,\n",
       "  'bark': 1,\n",
       "  'bird': 2,\n",
       "  'cat': 3,\n",
       "  'dog': 4,\n",
       "  'fly': 5,\n",
       "  'meows': 6,\n",
       "  'run': 7,\n",
       "  'sleep': 8,\n",
       "  'the': 9},\n",
       " {0: 'a',\n",
       "  1: 'bark',\n",
       "  2: 'bird',\n",
       "  3: 'cat',\n",
       "  4: 'dog',\n",
       "  5: 'fly',\n",
       "  6: 'meows',\n",
       "  7: 'run',\n",
       "  8: 'sleep',\n",
       "  9: 'the'})"
      ]
     },
     "execution_count": 24,
     "metadata": {},
     "output_type": "execute_result"
    }
   ],
   "source": [
    "build_word_vector(text)"
   ]
  },
  {
   "cell_type": "code",
   "execution_count": 31,
   "metadata": {
    "collapsed": false
   },
   "outputs": [
    {
     "name": "stdout",
     "output_type": "stream",
     "text": [
      "0.933333333333\n",
      "0.934198732994\n"
     ]
    }
   ],
   "source": [
    "wvector , word2id, id2word = build_word_vector(text)\n",
    "print cosine(wvector[word2id[\"dog\"]], wvector[word2id[\"cat\"]])\n",
    "\n",
    "print cosine(wvector[word2id[\"dog\"]], wvector[word2id[\"bird\"]])\n"
   ]
  },
  {
   "cell_type": "code",
   "execution_count": 34,
   "metadata": {
    "collapsed": false
   },
   "outputs": [
    {
     "name": "stdout",
     "output_type": "stream",
     "text": [
      "-0.34053289159\n",
      "-0.260785886268\n",
      "-0.326081888894\n",
      "-0.373124480522\n",
      "-0.373124480522\n",
      "-0.257287426996\n",
      "-0.260785886268\n",
      "-0.288534374466\n",
      "-0.312784403392\n",
      "-0.34053289159\n"
     ]
    },
    {
     "data": {
      "image/png": "[encoded data removed]",
      "text/plain": [
       "<matplotlib.figure.Figure at 0x1082e2cd0>"
      ]
     },
     "metadata": {},
     "output_type": "display_data"
    }
   ],
   "source": [
    "visualize(wvector,id2word)"
   ]
  },
  {
   "cell_type": "code",
   "execution_count": null,
   "metadata": {
    "collapsed": true
   },
   "outputs": [],
   "source": []
  }
 ],
 "metadata": {
  "anaconda-cloud": {},
  "kernelspec": {
   "display_name": "Python [Root]",
   "language": "python",
   "name": "Python [Root]"
  },
  "language_info": {
   "codemirror_mode": {
    "name": "ipython",
    "version": 2
   },
   "file_extension": ".py",
   "mimetype": "text/x-python",
   "name": "python",
   "nbconvert_exporter": "python",
   "pygments_lexer": "ipython2",
   "version": "2.7.12"
  }
 },
 "nbformat": 4,
 "nbformat_minor": 0
}
