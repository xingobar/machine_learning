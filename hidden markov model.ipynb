{
 "cells": [
  {
   "cell_type": "code",
   "execution_count": 15,
   "metadata": {
    "collapsed": false
   },
   "outputs": [],
   "source": [
    "import numpy as np\n",
    "import os\n",
    "import pandas as pd\n",
    "import scipy\n",
    "from scipy.io import wavfile\n",
    "import matplotlib.pyplot as plt\n",
    "%matplotlib inline"
   ]
  },
  {
   "cell_type": "code",
   "execution_count": 4,
   "metadata": {
    "collapsed": false
   },
   "outputs": [],
   "source": [
    "fpath = []\n",
    "label_path = []\n",
    "spoken = []\n",
    "directory = '/Users/xingobar/Downloads/hmm-speech-recognition-0.1/audio/'\n",
    "for f in os.listdir(directory):\n",
    "    for w in os.listdir(directory+f+'/'):\n",
    "        label_path.append(f)\n",
    "        fpath.append(directory + f + '/' + w )\n",
    "        if f not in spoken:\n",
    "            spoken.append(f)"
   ]
  },
  {
   "cell_type": "code",
   "execution_count": 9,
   "metadata": {
    "collapsed": false,
    "scrolled": true
   },
   "outputs": [
    {
     "name": "stdout",
     "output_type": "stream",
     "text": [
      "the number of file : 105\n",
      "the number of label : 105\n",
      "the unique of label : \n",
      "['apple', 'banana', 'kiwi', 'lime', 'orange', 'peach', 'pineapple']\n"
     ]
    }
   ],
   "source": [
    "print('the number of file : {}'.format(len(fpath)))\n",
    "print('the number of label : {}'.format(len(label_path)))\n",
    "print('the unique of label : ')\n",
    "print(spoken)"
   ]
  },
  {
   "cell_type": "code",
   "execution_count": 19,
   "metadata": {
    "collapsed": false
   },
   "outputs": [],
   "source": [
    "for i,_ in enumerate(label_path):\n",
    "    if _ == 1:\n",
    "        print _"
   ]
  },
  {
   "cell_type": "markdown",
   "metadata": {},
   "source": [
    "### Read wav file "
   ]
  },
  {
   "cell_type": "code",
   "execution_count": 23,
   "metadata": {
    "collapsed": false
   },
   "outputs": [
    {
     "name": "stdout",
     "output_type": "stream",
     "text": [
      "number of data file : 105\n",
      "('the label indices : ', array([ 1.,  1.,  1.,  1.,  1.,  1.,  1.,  1.,  1.,  1.,  1.,  1.,  1.,\n",
      "        1.,  1.,  5.,  5.,  5.,  5.,  5.,  5.,  5.,  5.,  5.,  5.,  5.,\n",
      "        5.,  5.,  5.,  5.,  0.,  0.,  0.,  0.,  0.,  0.,  0.,  0.,  0.,\n",
      "        0.,  0.,  0.,  0.,  0.,  0.,  6.,  6.,  6.,  6.,  6.,  6.,  6.,\n",
      "        6.,  6.,  6.,  6.,  6.,  6.,  6.,  6.,  4.,  4.,  4.,  4.,  4.,\n",
      "        4.,  4.,  4.,  4.,  4.,  4.,  4.,  4.,  4.,  4.,  2.,  2.,  2.,\n",
      "        2.,  2.,  2.,  2.,  2.,  2.,  2.,  2.,  2.,  2.,  2.,  2.,  3.,\n",
      "        3.,  3.,  3.,  3.,  3.,  3.,  3.,  3.,  3.,  3.,  3.,  3.,  3.,  3.]))\n"
     ]
    }
   ],
   "source": [
    "#Files are signed 16 bit raw, sample rate 8000\n",
    "data = np.zeros((len(fpath),32000))\n",
    "max_size = -1\n",
    "for idx,f in enumerate(fpath):\n",
    "    rate ,d = wavfile.read(f) ### sample rate , wav file\n",
    "    data[idx,:d.shape[0]] =  d\n",
    "    if max_size < d.shape[0]:\n",
    "        max_size = d.shape[0]\n",
    "data = data[:,:max_size]\n",
    "print('number of data file : {}'.format(data.shape[0]))\n",
    "all_label = np.zeros(data.shape[0]) ## store path indices \n",
    "for idx,label in enumerate(set(label_path)):\n",
    "    all_label[np.array([i for i,_ in enumerate(label_path) if _ == label])] = idx\n",
    "print('the label indices : ',all_label)"
   ]
  },
  {
   "cell_type": "code",
   "execution_count": null,
   "metadata": {
    "collapsed": true
   },
   "outputs": [],
   "source": [
    "def stft(x,fftsize=64,overlap_pct=.5):\n",
    "    "
   ]
  }
 ],
 "metadata": {
  "anaconda-cloud": {},
  "kernelspec": {
   "display_name": "Python [Root]",
   "language": "python",
   "name": "Python [Root]"
  },
  "language_info": {
   "codemirror_mode": {
    "name": "ipython",
    "version": 2
   },
   "file_extension": ".py",
   "mimetype": "text/x-python",
   "name": "python",
   "nbconvert_exporter": "python",
   "pygments_lexer": "ipython2",
   "version": "2.7.12"
  }
 },
 "nbformat": 4,
 "nbformat_minor": 0
}
