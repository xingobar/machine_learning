{
 "cells": [
  {
   "cell_type": "code",
   "execution_count": 6,
   "metadata": {
    "collapsed": false
   },
   "outputs": [],
   "source": [
    "import numpy as np \n",
    "import time \n",
    "import theano\n",
    "from theano import tensor as T\n",
    "from theano.tensor.nnet import conv2d\n",
    "from theano.tensor.signal import pool\n",
    "from logistic_regression import load_data,LogisticRegression"
   ]
  },
  {
   "cell_type": "code",
   "execution_count": 5,
   "metadata": {
    "collapsed": true
   },
   "outputs": [],
   "source": [
    "class LeNetConvPool(object):\n",
    "    \n",
    "    def __init__(self,rng,input,filter_shape,image_shape,poolsize=(2,2)):\n",
    "        \n",
    "        ## filter_shape is a tuple\n",
    "        ## (number of filters, number of the feature maps , filter height , filter width)\n",
    "        \n",
    "        ## image_shape is a tuple\n",
    "        ## (batch_size , number of the feature maps, image height , image width)\n",
    "        \n",
    "        assert filter_shape[1] == image_shape[1]\n",
    "        ## number of the feature maps * height * width\n",
    "        ## inputs to hidden units\n",
    "        fan_in = np.prod(filter_shape[1:]) \n",
    "        fan_out = (filter_shape[0] * np.prod(filter_shape[2:]) // np.prod(pool_size))\n",
    "        \n",
    "        w_init = np.random(6. / (fan_in + fan_out))\n",
    "        self.W = theano.shared(np.asarray(\n",
    "                rng.uniform(\n",
    "                        low = -w_init,\n",
    "                        high = w_init,\n",
    "                        size = filter_shape\n",
    "                ),dtype = theano.config.floatX),borrow = True) ## false is deepcopy\n",
    "        \n",
    "        ## one dimensional vector \n",
    "        b_values = np.zeros((filter_shape[0],),dtype = theano.config.floatX)\n",
    "        self.b = theano.shared(value = b_values , borrow = True) ##  false is deepcopy\n",
    "        \n",
    "        ## convolution\n",
    "        conv_out = conv2d(\n",
    "                        input = input,\n",
    "                        filters = self.W,\n",
    "                        filter_shape = filter_shape,\n",
    "                        input_shape = image_shape\n",
    "                    )\n",
    "        \n",
    "        ## max pooling \n",
    "        pooled_out = pool.pool_2d(\n",
    "                        input = conv_out,\n",
    "                        ds = poolsize,\n",
    "                        ignore_border = True\n",
    "                    )\n",
    "        \n",
    "        self.params = [self.W,self.b] ## the parameters of model\n",
    "        self.input = input\n",
    "        "
   ]
  },
  {
   "cell_type": "code",
   "execution_count": null,
   "metadata": {
    "collapsed": true
   },
   "outputs": [],
   "source": [
    "def evaluate(learning_rate = 0.01,n_epoch = 200, nkerns=[20,50],batch_size = 500):\n",
    "    \n",
    "    ## nkerns : number of kernels on eacy layer\n",
    "    \n",
    "    rng = np.random.RandomState(42)\n",
    "    datasets = load_data()\n",
    "    train_x,train_y = datasets[0]\n",
    "    validation_x,validation_y = datasets[1]\n",
    "    test_x,test_y = datasets[2]\n",
    "    \n",
    "    ## compute the number of minibatches\n",
    "    n_train_batches = train_x.get_value(borrow=True).shape[0] // batch_size\n",
    "    n_validation_batches = validation_x.get_value(borrow=True).shape[0] // batch_size\n",
    "    n_test_batches = test_x.get_value(borrow=True).shape[0] // batch_size\n",
    "    \n",
    "    index = T.lscalar() ## index\n",
    "    x = T.matrix('x')\n",
    "    y = T.ivector('y')\n",
    "    \n",
    "    print 'building the model.....'\n",
    "    \n",
    "    \n",
    "    \n",
    "    \n",
    "    print 'complete building the model ....'\n",
    "    \n",
    "    "
   ]
  }
 ],
 "metadata": {
  "anaconda-cloud": {},
  "kernelspec": {
   "display_name": "Python [Root]",
   "language": "python",
   "name": "Python [Root]"
  },
  "language_info": {
   "codemirror_mode": {
    "name": "ipython",
    "version": 2
   },
   "file_extension": ".py",
   "mimetype": "text/x-python",
   "name": "python",
   "nbconvert_exporter": "python",
   "pygments_lexer": "ipython2",
   "version": "2.7.12"
  }
 },
 "nbformat": 4,
 "nbformat_minor": 0
}
